{
 "cells": [
  {
   "cell_type": "code",
   "execution_count": 4,
   "metadata": {},
   "outputs": [
    {
     "data": {
      "text/plain": [
       "'C:\\\\Users\\\\Russm\\\\DroneCourse\\\\ENVS333\\\\DeepLearn\\\\final'"
      ]
     },
     "execution_count": 4,
     "metadata": {},
     "output_type": "execute_result"
    }
   ],
   "source": [
    "import os\n",
    "os.getcwd()  # Get Working Directory"
   ]
  },
  {
   "cell_type": "code",
   "execution_count": 5,
   "metadata": {},
   "outputs": [
    {
     "name": "stderr",
     "output_type": "stream",
     "text": [
      "Using TensorFlow backend.\n"
     ]
    },
    {
     "name": "stdout",
     "output_type": "stream",
     "text": [
      "Wall time: 5.43 s\n"
     ]
    }
   ],
   "source": [
    "%%time\n",
    "import os\n",
    "os.environ['KERAS_BACKEND'] = 'tensorflow'\n",
    "import keras"
   ]
  },
  {
   "cell_type": "code",
   "execution_count": 6,
   "metadata": {},
   "outputs": [],
   "source": [
    "from keras.preprocessing.image import ImageDataGenerator\n",
    "from keras.models import Sequential\n",
    "from keras.layers import Conv2D, MaxPooling2D\n",
    "from keras.layers import Activation, Dropout, Flatten, Dense\n",
    "from keras import backend as K"
   ]
  },
  {
   "cell_type": "code",
   "execution_count": 7,
   "metadata": {},
   "outputs": [],
   "source": [
    "# dimensions of our images.\n",
    "img_width, img_height = 150, 150"
   ]
  },
  {
   "cell_type": "code",
   "execution_count": 8,
   "metadata": {},
   "outputs": [],
   "source": [
    "\n",
    "train_data_dir = 'data/train'\n",
    "validation_data_dir = 'data/validation'\n",
    "nb_train_samples = 401\n",
    "nb_validation_samples = 101\n",
    "epochs = 10\n",
    "batch_size = 20"
   ]
  },
  {
   "cell_type": "code",
   "execution_count": 9,
   "metadata": {},
   "outputs": [],
   "source": [
    "if K.image_data_format() == 'channels_first':\n",
    "    input_shape = (3, img_width, img_height)\n",
    "else:\n",
    "    input_shape = (img_width, img_height, 3)"
   ]
  },
  {
   "cell_type": "code",
   "execution_count": 10,
   "metadata": {},
   "outputs": [],
   "source": [
    "train_datagen = ImageDataGenerator(\n",
    "    rescale=1. / 255)"
   ]
  },
  {
   "cell_type": "code",
   "execution_count": 11,
   "metadata": {},
   "outputs": [],
   "source": [
    "test_datagen = ImageDataGenerator(rescale=1. / 255)"
   ]
  },
  {
   "cell_type": "code",
   "execution_count": 12,
   "metadata": {},
   "outputs": [
    {
     "name": "stdout",
     "output_type": "stream",
     "text": [
      "Found 802 images belonging to 2 classes.\n"
     ]
    }
   ],
   "source": [
    "training = train_datagen.flow_from_directory(\n",
    "    train_data_dir,\n",
    "    target_size=(img_width, img_height),\n",
    "    batch_size=batch_size,\n",
    "    class_mode='binary')\n",
    "x,y = training.next()"
   ]
  },
  {
   "cell_type": "code",
   "execution_count": 13,
   "metadata": {},
   "outputs": [
    {
     "data": {
      "text/plain": [
       "array([0., 0., 1., 0., 1., 0., 1., 1., 0., 0., 0., 0., 0., 1., 1., 1., 1.,\n",
       "       0., 0., 0.], dtype=float32)"
      ]
     },
     "execution_count": 13,
     "metadata": {},
     "output_type": "execute_result"
    }
   ],
   "source": [
    "y"
   ]
  },
  {
   "cell_type": "code",
   "execution_count": 14,
   "metadata": {},
   "outputs": [
    {
     "name": "stdout",
     "output_type": "stream",
     "text": [
      "Found 202 images belonging to 2 classes.\n"
     ]
    }
   ],
   "source": [
    "validation = test_datagen.flow_from_directory(\n",
    "    validation_data_dir,\n",
    "    target_size=(img_width, img_height),\n",
    "    batch_size=batch_size,\n",
    "    class_mode='binary')\n",
    "\n",
    "x,y = validation.next()"
   ]
  },
  {
   "cell_type": "code",
   "execution_count": 15,
   "metadata": {},
   "outputs": [
    {
     "data": {
      "text/plain": [
       "array([0., 1., 0., 0., 1., 1., 0., 0., 0., 0., 0., 0., 0., 1., 0., 0., 1.,\n",
       "       0., 1., 0.], dtype=float32)"
      ]
     },
     "execution_count": 15,
     "metadata": {},
     "output_type": "execute_result"
    }
   ],
   "source": [
    "y"
   ]
  },
  {
   "cell_type": "code",
   "execution_count": 25,
   "metadata": {},
   "outputs": [],
   "source": [
    "model = Sequential()\n",
    "model.add(Conv2D(32, (5, 5), input_shape=input_shape))\n",
    "model.add(Activation('relu'))\n",
    "model.add(MaxPooling2D(pool_size=(2, 2)))\n",
    "model.add(Dropout(0.2))\n",
    "#model.add(Conv2D(32, (5, 5)))\n",
    "#model.add(Activation('relu'))\n",
    "#model.add(MaxPooling2D(pool_size=(2, 2)))\n",
    "\n",
    "#model.add(Conv2D(64, (3, 3)))\n",
    "#model.add(Activation('relu'))\n",
    "#model.add(MaxPooling2D(pool_size=(2, 2)))\n",
    "\n",
    "model.add(Flatten())\n",
    "model.add(Dense(64))\n",
    "model.add(Activation('relu'))\n",
    "model.add(Dense(1))\n",
    "model.add(Activation('sigmoid'))"
   ]
  },
  {
   "cell_type": "code",
   "execution_count": 26,
   "metadata": {},
   "outputs": [],
   "source": [
    "model.compile(loss='binary_crossentropy',\n",
    "              optimizer='sgd',\n",
    "              metrics=['accuracy'])"
   ]
  },
  {
   "cell_type": "code",
   "execution_count": 27,
   "metadata": {},
   "outputs": [
    {
     "name": "stdout",
     "output_type": "stream",
     "text": [
      "Epoch 1/10\n",
      "20/20 [==============================] - 13s 656ms/step - loss: 0.7185 - accuracy: 0.5525 - val_loss: 0.7155 - val_accuracy: 0.4700\n",
      "Epoch 2/10\n",
      "20/20 [==============================] - 11s 567ms/step - loss: 0.6092 - accuracy: 0.6832 - val_loss: 0.5425 - val_accuracy: 0.7300\n",
      "Epoch 3/10\n",
      "20/20 [==============================] - 12s 590ms/step - loss: 0.6301 - accuracy: 0.6600 - val_loss: 0.6180 - val_accuracy: 0.6707\n",
      "Epoch 4/10\n",
      "20/20 [==============================] - 11s 539ms/step - loss: 0.5781 - accuracy: 0.7016 - val_loss: 0.5256 - val_accuracy: 0.7900\n",
      "Epoch 5/10\n",
      "20/20 [==============================] - 11s 532ms/step - loss: 0.5243 - accuracy: 0.7775 - val_loss: 0.5683 - val_accuracy: 0.7683\n",
      "Epoch 6/10\n",
      "20/20 [==============================] - 10s 520ms/step - loss: 0.4686 - accuracy: 0.7750 - val_loss: 0.4643 - val_accuracy: 0.7000\n",
      "Epoch 7/10\n",
      "20/20 [==============================] - 11s 529ms/step - loss: 0.4447 - accuracy: 0.7975 - val_loss: 0.3789 - val_accuracy: 0.8537\n",
      "Epoch 8/10\n",
      "20/20 [==============================] - 10s 507ms/step - loss: 0.4038 - accuracy: 0.8246 - val_loss: 0.3395 - val_accuracy: 0.7100\n",
      "Epoch 9/10\n",
      "20/20 [==============================] - 11s 528ms/step - loss: 0.3473 - accuracy: 0.8475 - val_loss: 1.2639 - val_accuracy: 0.5488\n",
      "Epoch 10/10\n",
      "20/20 [==============================] - 10s 519ms/step - loss: 0.4390 - accuracy: 0.8194 - val_loss: 0.3346 - val_accuracy: 0.8600\n"
     ]
    }
   ],
   "source": [
    "history = model.fit_generator(\n",
    "    training,\n",
    "    steps_per_epoch=nb_train_samples // batch_size,\n",
    "    epochs=epochs,\n",
    "    validation_data=validation,\n",
    "    validation_steps=nb_validation_samples // batch_size)"
   ]
  },
  {
   "cell_type": "code",
   "execution_count": 28,
   "metadata": {},
   "outputs": [
    {
     "data": {
      "image/png": "[encoded data removed]",
      "text/plain": [
       "<Figure size 432x288 with 1 Axes>"
      ]
     },
     "metadata": {
      "needs_background": "light"
     },
     "output_type": "display_data"
    }
   ],
   "source": [
    "import matplotlib.pyplot as plt\n",
    "\n",
    "plt.plot(history.history['accuracy'])\n",
    "plt.plot(history.history['val_accuracy'])\n",
    "plt.title('Model accuracy')\n",
    "plt.ylabel('Accuracy')\n",
    "plt.xlabel('Epoch')\n",
    "plt.legend(['Train', 'Validate'], loc='upper left')\n",
    "plt.show()"
   ]
  },
  {
   "cell_type": "code",
   "execution_count": 20,
   "metadata": {},
   "outputs": [],
   "source": [
    "predictions = model.predict(validation)"
   ]
  },
  {
   "cell_type": "code",
   "execution_count": 21,
   "metadata": {},
   "outputs": [
    {
     "data": {
      "text/plain": [
       "array([[0.93076354],\n",
       "       [0.7891988 ],\n",
       "       [0.08114481],\n",
       "       [0.35694596],\n",
       "       [0.4965586 ],\n",
       "       [0.3086953 ],\n",
       "       [0.3362182 ],\n",
       "       [0.7436199 ],\n",
       "       [0.7860157 ],\n",
       "       [0.5145758 ],\n",
       "       [0.42636713],\n",
       "       [0.8093331 ],\n",
       "       [0.91814905],\n",
       "       [0.65628475],\n",
       "       [0.82658494],\n",
       "       [0.5248717 ],\n",
       "       [0.68909067],\n",
       "       [0.46299878],\n",
       "       [0.17977054],\n",
       "       [0.7353784 ],\n",
       "       [0.40972796],\n",
       "       [0.34808657],\n",
       "       [0.23182249],\n",
       "       [0.31488356],\n",
       "       [0.44814655],\n",
       "       [0.25753886],\n",
       "       [0.04244899],\n",
       "       [0.22578008],\n",
       "       [0.8668105 ],\n",
       "       [0.5429402 ],\n",
       "       [0.75585425],\n",
       "       [0.16974463],\n",
       "       [0.75322765],\n",
       "       [0.6886453 ],\n",
       "       [0.75930494],\n",
       "       [0.7996142 ],\n",
       "       [0.20416048],\n",
       "       [0.17094596],\n",
       "       [0.88098586],\n",
       "       [0.42727247],\n",
       "       [0.39134717],\n",
       "       [0.6114631 ],\n",
       "       [0.350307  ],\n",
       "       [0.23285456],\n",
       "       [0.53830445],\n",
       "       [0.52063954],\n",
       "       [0.31264353],\n",
       "       [0.05516346],\n",
       "       [0.6943973 ],\n",
       "       [0.33158875],\n",
       "       [0.77644026],\n",
       "       [0.34938315],\n",
       "       [0.83969444],\n",
       "       [0.34795508],\n",
       "       [0.8702071 ],\n",
       "       [0.5611286 ],\n",
       "       [0.84181213],\n",
       "       [0.15026869],\n",
       "       [0.18572105],\n",
       "       [0.6359093 ],\n",
       "       [0.90748364],\n",
       "       [0.89505696],\n",
       "       [0.370882  ],\n",
       "       [0.71456933],\n",
       "       [0.6070336 ],\n",
       "       [0.8609933 ],\n",
       "       [0.30833837],\n",
       "       [0.1179079 ],\n",
       "       [0.39434242],\n",
       "       [0.7068441 ],\n",
       "       [0.26191834],\n",
       "       [0.3860836 ],\n",
       "       [0.94853306],\n",
       "       [0.7008891 ],\n",
       "       [0.7312145 ],\n",
       "       [0.54540855],\n",
       "       [0.96344215],\n",
       "       [0.25017256],\n",
       "       [0.34191492],\n",
       "       [0.23774567],\n",
       "       [0.21589814],\n",
       "       [0.09046935],\n",
       "       [0.734196  ],\n",
       "       [0.7777586 ],\n",
       "       [0.6827881 ],\n",
       "       [0.79007614],\n",
       "       [0.25033945],\n",
       "       [0.32908258],\n",
       "       [0.67737263],\n",
       "       [0.24508701],\n",
       "       [0.18012118],\n",
       "       [0.70522916],\n",
       "       [0.87701786],\n",
       "       [0.37420964],\n",
       "       [0.2512571 ],\n",
       "       [0.19978781],\n",
       "       [0.3174919 ],\n",
       "       [0.6647065 ],\n",
       "       [0.43092316],\n",
       "       [0.10182693],\n",
       "       [0.38357687],\n",
       "       [0.23998597],\n",
       "       [0.632268  ],\n",
       "       [0.76000077],\n",
       "       [0.7545498 ],\n",
       "       [0.28759643],\n",
       "       [0.22422424],\n",
       "       [0.7830848 ],\n",
       "       [0.33122417],\n",
       "       [0.2796474 ],\n",
       "       [0.56469434],\n",
       "       [0.4552261 ],\n",
       "       [0.91843945],\n",
       "       [0.9864861 ],\n",
       "       [0.7214441 ],\n",
       "       [0.85135996],\n",
       "       [0.21693434],\n",
       "       [0.42741877],\n",
       "       [0.33566833],\n",
       "       [0.12383953],\n",
       "       [0.71596533],\n",
       "       [0.43841505],\n",
       "       [0.26828954],\n",
       "       [0.13405727],\n",
       "       [0.32902777],\n",
       "       [0.32850337],\n",
       "       [0.97379977],\n",
       "       [0.26618224],\n",
       "       [0.33876124],\n",
       "       [0.7160378 ],\n",
       "       [0.4898058 ],\n",
       "       [0.46621737],\n",
       "       [0.44257963],\n",
       "       [0.94727075],\n",
       "       [0.80680275],\n",
       "       [0.24736996],\n",
       "       [0.24765965],\n",
       "       [0.31222436],\n",
       "       [0.29134825],\n",
       "       [0.918225  ],\n",
       "       [0.49407414],\n",
       "       [0.35858583],\n",
       "       [0.27969292],\n",
       "       [0.87222135],\n",
       "       [0.8266629 ],\n",
       "       [0.5722388 ],\n",
       "       [0.4418756 ],\n",
       "       [0.3880473 ],\n",
       "       [0.1899232 ],\n",
       "       [0.22946839],\n",
       "       [0.43021652],\n",
       "       [0.23383294],\n",
       "       [0.79780245],\n",
       "       [0.89372945],\n",
       "       [0.7458876 ],\n",
       "       [0.09878401],\n",
       "       [0.44777155],\n",
       "       [0.4022551 ],\n",
       "       [0.23824206],\n",
       "       [0.1971116 ],\n",
       "       [0.23722184],\n",
       "       [0.4443853 ],\n",
       "       [0.8859518 ],\n",
       "       [0.2523058 ],\n",
       "       [0.30749786],\n",
       "       [0.14846857],\n",
       "       [0.19020672],\n",
       "       [0.4403279 ],\n",
       "       [0.34664768],\n",
       "       [0.8755788 ],\n",
       "       [0.40360528],\n",
       "       [0.72120434],\n",
       "       [0.07285526],\n",
       "       [0.6467881 ],\n",
       "       [0.34150705],\n",
       "       [0.5660544 ],\n",
       "       [0.5730238 ],\n",
       "       [0.35221744],\n",
       "       [0.32737413],\n",
       "       [0.8941435 ],\n",
       "       [0.6833038 ],\n",
       "       [0.9723689 ],\n",
       "       [0.2864207 ],\n",
       "       [0.32806435],\n",
       "       [0.6929787 ],\n",
       "       [0.7870623 ],\n",
       "       [0.53260255],\n",
       "       [0.48955378],\n",
       "       [0.32099462],\n",
       "       [0.20680784],\n",
       "       [0.45166016],\n",
       "       [0.2787758 ],\n",
       "       [0.47197708],\n",
       "       [0.21652527],\n",
       "       [0.6380638 ],\n",
       "       [0.5676701 ],\n",
       "       [0.7546685 ],\n",
       "       [0.13818839],\n",
       "       [0.64689946],\n",
       "       [0.24800247],\n",
       "       [0.5818208 ],\n",
       "       [0.1862647 ]], dtype=float32)"
      ]
     },
     "execution_count": 21,
     "metadata": {},
     "output_type": "execute_result"
    }
   ],
   "source": [
    "predictions"
   ]
  },
  {
   "cell_type": "code",
   "execution_count": 22,
   "metadata": {},
   "outputs": [],
   "source": [
    "import numpy as np\n",
    "np.set_printoptions(formatter={'float_kind':'{:f}'.format})"
   ]
  },
  {
   "cell_type": "code",
   "execution_count": 23,
   "metadata": {},
   "outputs": [],
   "source": [
    "newpredictions =  np.rint(predictions)"
   ]
  },
  {
   "cell_type": "code",
   "execution_count": 24,
   "metadata": {},
   "outputs": [
    {
     "data": {
      "text/plain": [
       "array([[1.000000],\n",
       "       [1.000000],\n",
       "       [0.000000],\n",
       "       [0.000000],\n",
       "       [0.000000],\n",
       "       [0.000000],\n",
       "       [0.000000],\n",
       "       [1.000000],\n",
       "       [1.000000],\n",
       "       [1.000000],\n",
       "       [0.000000],\n",
       "       [1.000000],\n",
       "       [1.000000],\n",
       "       [1.000000],\n",
       "       [1.000000],\n",
       "       [1.000000],\n",
       "       [1.000000],\n",
       "       [0.000000],\n",
       "       [0.000000],\n",
       "       [1.000000],\n",
       "       [0.000000],\n",
       "       [0.000000],\n",
       "       [0.000000],\n",
       "       [0.000000],\n",
       "       [0.000000],\n",
       "       [0.000000],\n",
       "       [0.000000],\n",
       "       [0.000000],\n",
       "       [1.000000],\n",
       "       [1.000000],\n",
       "       [1.000000],\n",
       "       [0.000000],\n",
       "       [1.000000],\n",
       "       [1.000000],\n",
       "       [1.000000],\n",
       "       [1.000000],\n",
       "       [0.000000],\n",
       "       [0.000000],\n",
       "       [1.000000],\n",
       "       [0.000000],\n",
       "       [0.000000],\n",
       "       [1.000000],\n",
       "       [0.000000],\n",
       "       [0.000000],\n",
       "       [1.000000],\n",
       "       [1.000000],\n",
       "       [0.000000],\n",
       "       [0.000000],\n",
       "       [1.000000],\n",
       "       [0.000000],\n",
       "       [1.000000],\n",
       "       [0.000000],\n",
       "       [1.000000],\n",
       "       [0.000000],\n",
       "       [1.000000],\n",
       "       [1.000000],\n",
       "       [1.000000],\n",
       "       [0.000000],\n",
       "       [0.000000],\n",
       "       [1.000000],\n",
       "       [1.000000],\n",
       "       [1.000000],\n",
       "       [0.000000],\n",
       "       [1.000000],\n",
       "       [1.000000],\n",
       "       [1.000000],\n",
       "       [0.000000],\n",
       "       [0.000000],\n",
       "       [0.000000],\n",
       "       [1.000000],\n",
       "       [0.000000],\n",
       "       [0.000000],\n",
       "       [1.000000],\n",
       "       [1.000000],\n",
       "       [1.000000],\n",
       "       [1.000000],\n",
       "       [1.000000],\n",
       "       [0.000000],\n",
       "       [0.000000],\n",
       "       [0.000000],\n",
       "       [0.000000],\n",
       "       [0.000000],\n",
       "       [1.000000],\n",
       "       [1.000000],\n",
       "       [1.000000],\n",
       "       [1.000000],\n",
       "       [0.000000],\n",
       "       [0.000000],\n",
       "       [1.000000],\n",
       "       [0.000000],\n",
       "       [0.000000],\n",
       "       [1.000000],\n",
       "       [1.000000],\n",
       "       [0.000000],\n",
       "       [0.000000],\n",
       "       [0.000000],\n",
       "       [0.000000],\n",
       "       [1.000000],\n",
       "       [0.000000],\n",
       "       [0.000000],\n",
       "       [0.000000],\n",
       "       [0.000000],\n",
       "       [1.000000],\n",
       "       [1.000000],\n",
       "       [1.000000],\n",
       "       [0.000000],\n",
       "       [0.000000],\n",
       "       [1.000000],\n",
       "       [0.000000],\n",
       "       [0.000000],\n",
       "       [1.000000],\n",
       "       [0.000000],\n",
       "       [1.000000],\n",
       "       [1.000000],\n",
       "       [1.000000],\n",
       "       [1.000000],\n",
       "       [0.000000],\n",
       "       [0.000000],\n",
       "       [0.000000],\n",
       "       [0.000000],\n",
       "       [1.000000],\n",
       "       [0.000000],\n",
       "       [0.000000],\n",
       "       [0.000000],\n",
       "       [0.000000],\n",
       "       [0.000000],\n",
       "       [1.000000],\n",
       "       [0.000000],\n",
       "       [0.000000],\n",
       "       [1.000000],\n",
       "       [0.000000],\n",
       "       [0.000000],\n",
       "       [0.000000],\n",
       "       [1.000000],\n",
       "       [1.000000],\n",
       "       [0.000000],\n",
       "       [0.000000],\n",
       "       [0.000000],\n",
       "       [0.000000],\n",
       "       [1.000000],\n",
       "       [0.000000],\n",
       "       [0.000000],\n",
       "       [0.000000],\n",
       "       [1.000000],\n",
       "       [1.000000],\n",
       "       [1.000000],\n",
       "       [0.000000],\n",
       "       [0.000000],\n",
       "       [0.000000],\n",
       "       [0.000000],\n",
       "       [0.000000],\n",
       "       [0.000000],\n",
       "       [1.000000],\n",
       "       [1.000000],\n",
       "       [1.000000],\n",
       "       [0.000000],\n",
       "       [0.000000],\n",
       "       [0.000000],\n",
       "       [0.000000],\n",
       "       [0.000000],\n",
       "       [0.000000],\n",
       "       [0.000000],\n",
       "       [1.000000],\n",
       "       [0.000000],\n",
       "       [0.000000],\n",
       "       [0.000000],\n",
       "       [0.000000],\n",
       "       [0.000000],\n",
       "       [0.000000],\n",
       "       [1.000000],\n",
       "       [0.000000],\n",
       "       [1.000000],\n",
       "       [0.000000],\n",
       "       [1.000000],\n",
       "       [0.000000],\n",
       "       [1.000000],\n",
       "       [1.000000],\n",
       "       [0.000000],\n",
       "       [0.000000],\n",
       "       [1.000000],\n",
       "       [1.000000],\n",
       "       [1.000000],\n",
       "       [0.000000],\n",
       "       [0.000000],\n",
       "       [1.000000],\n",
       "       [1.000000],\n",
       "       [1.000000],\n",
       "       [0.000000],\n",
       "       [0.000000],\n",
       "       [0.000000],\n",
       "       [0.000000],\n",
       "       [0.000000],\n",
       "       [0.000000],\n",
       "       [0.000000],\n",
       "       [1.000000],\n",
       "       [1.000000],\n",
       "       [1.000000],\n",
       "       [0.000000],\n",
       "       [1.000000],\n",
       "       [0.000000],\n",
       "       [1.000000],\n",
       "       [0.000000]], dtype=float32)"
      ]
     },
     "execution_count": 24,
     "metadata": {},
     "output_type": "execute_result"
    }
   ],
   "source": [
    "newpredictions"
   ]
  },
  {
   "cell_type": "code",
   "execution_count": null,
   "metadata": {},
   "outputs": [],
   "source": []
  }
 ],
 "metadata": {
  "kernelspec": {
   "display_name": "Python 3",
   "language": "python",
   "name": "python3"
  },
  "language_info": {
   "codemirror_mode": {
    "name": "ipython",
    "version": 3
   },
   "file_extension": ".py",
   "mimetype": "text/x-python",
   "name": "python",
   "nbconvert_exporter": "python",
   "pygments_lexer": "ipython3",
   "version": "3.7.7"
  }
 },
 "nbformat": 4,
 "nbformat_minor": 4
}
