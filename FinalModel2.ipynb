{
 "cells": [
  {
   "cell_type": "code",
   "execution_count": 1,
   "metadata": {},
   "outputs": [
    {
     "data": {
      "text/plain": [
       "'C:\\\\Users\\\\Russm\\\\DroneCourse\\\\ENVS333\\\\DeepLearn\\\\final'"
      ]
     },
     "execution_count": 1,
     "metadata": {},
     "output_type": "execute_result"
    }
   ],
   "source": [
    "import os\n",
    "os.getcwd()  # Get Working Directory"
   ]
  },
  {
   "cell_type": "code",
   "execution_count": 2,
   "metadata": {},
   "outputs": [
    {
     "name": "stderr",
     "output_type": "stream",
     "text": [
      "Using TensorFlow backend.\n"
     ]
    },
    {
     "name": "stdout",
     "output_type": "stream",
     "text": [
      "Wall time: 5.19 s\n"
     ]
    }
   ],
   "source": [
    "%%time\n",
    "import os\n",
    "os.environ['KERAS_BACKEND'] = 'tensorflow'\n",
    "import keras"
   ]
  },
  {
   "cell_type": "code",
   "execution_count": 3,
   "metadata": {},
   "outputs": [],
   "source": [
    "from keras.preprocessing.image import ImageDataGenerator\n",
    "from keras.models import Sequential\n",
    "from keras.layers import Conv2D, MaxPooling2D\n",
    "from keras.layers import Activation, Dropout, Flatten, Dense\n",
    "from keras import backend as K"
   ]
  },
  {
   "cell_type": "code",
   "execution_count": 4,
   "metadata": {},
   "outputs": [],
   "source": [
    "# dimensions of our images.\n",
    "img_width, img_height = 150, 150"
   ]
  },
  {
   "cell_type": "code",
   "execution_count": 5,
   "metadata": {},
   "outputs": [],
   "source": [
    "\n",
    "train_data_dir = 'data/train'\n",
    "validation_data_dir = 'data/validation'\n",
    "nb_train_samples = 401\n",
    "nb_validation_samples = 101\n",
    "epochs = 5\n",
    "batch_size = 40"
   ]
  },
  {
   "cell_type": "code",
   "execution_count": 6,
   "metadata": {},
   "outputs": [],
   "source": [
    "if K.image_data_format() == 'channels_first':\n",
    "    input_shape = (3, img_width, img_height)\n",
    "else:\n",
    "    input_shape = (img_width, img_height, 3)"
   ]
  },
  {
   "cell_type": "code",
   "execution_count": 7,
   "metadata": {},
   "outputs": [],
   "source": [
    "train_datagen = ImageDataGenerator(\n",
    "    rescale=1. / 255)"
   ]
  },
  {
   "cell_type": "code",
   "execution_count": 8,
   "metadata": {},
   "outputs": [],
   "source": [
    "test_datagen = ImageDataGenerator(rescale=1. / 255)"
   ]
  },
  {
   "cell_type": "code",
   "execution_count": 9,
   "metadata": {},
   "outputs": [
    {
     "name": "stdout",
     "output_type": "stream",
     "text": [
      "Found 802 images belonging to 2 classes.\n"
     ]
    }
   ],
   "source": [
    "training = train_datagen.flow_from_directory(\n",
    "    train_data_dir,\n",
    "    target_size=(img_width, img_height),\n",
    "    batch_size=batch_size,\n",
    "    class_mode='binary')\n",
    "x,y = training.next()"
   ]
  },
  {
   "cell_type": "code",
   "execution_count": 10,
   "metadata": {},
   "outputs": [
    {
     "data": {
      "text/plain": [
       "array([0., 1., 0., 1., 1., 0., 1., 0., 1., 1., 1., 0., 0., 1., 0., 0., 0.,\n",
       "       0., 0., 1., 1., 1., 1., 1., 0., 0., 0., 1., 1., 0., 1., 0., 1., 0.,\n",
       "       0., 0., 0., 0., 1., 1.], dtype=float32)"
      ]
     },
     "execution_count": 10,
     "metadata": {},
     "output_type": "execute_result"
    }
   ],
   "source": [
    "y"
   ]
  },
  {
   "cell_type": "code",
   "execution_count": 11,
   "metadata": {},
   "outputs": [
    {
     "name": "stdout",
     "output_type": "stream",
     "text": [
      "Found 202 images belonging to 2 classes.\n"
     ]
    }
   ],
   "source": [
    "validation = test_datagen.flow_from_directory(\n",
    "    validation_data_dir,\n",
    "    target_size=(img_width, img_height),\n",
    "    batch_size=batch_size,\n",
    "    class_mode='binary')\n",
    "\n",
    "x,y = validation.next()"
   ]
  },
  {
   "cell_type": "code",
   "execution_count": 12,
   "metadata": {},
   "outputs": [
    {
     "data": {
      "text/plain": [
       "array([1., 1., 1., 0., 1., 0., 1., 1., 0., 0., 1., 0., 1., 1., 0., 0., 1.,\n",
       "       0., 0., 0., 1., 1., 1., 1., 1., 0., 1., 0., 0., 0., 0., 0., 0., 0.,\n",
       "       1., 1., 1., 0., 0., 1.], dtype=float32)"
      ]
     },
     "execution_count": 12,
     "metadata": {},
     "output_type": "execute_result"
    }
   ],
   "source": [
    "y"
   ]
  },
  {
   "cell_type": "code",
   "execution_count": 13,
   "metadata": {},
   "outputs": [],
   "source": [
    "model = Sequential()\n",
    "model.add(Conv2D(32, (3, 3), input_shape=input_shape))\n",
    "model.add(Activation('relu'))\n",
    "model.add(MaxPooling2D(pool_size=(2, 2)))\n",
    "model.add(Dropout(0.2))\n",
    "#model.add(Conv2D(32, (3, 3)))\n",
    "#model.add(Activation('relu'))\n",
    "#model.add(MaxPooling2D(pool_size=(2, 2)))\n",
    "\n",
    "#model.add(Conv2D(64, (3, 3)))\n",
    "#model.add(Activation('relu'))\n",
    "#model.add(MaxPooling2D(pool_size=(2, 2)))\n",
    "\n",
    "model.add(Flatten())\n",
    "model.add(Dense(64))\n",
    "model.add(Activation('relu'))\n",
    "model.add(Dense(1))\n",
    "model.add(Activation('sigmoid'))"
   ]
  },
  {
   "cell_type": "code",
   "execution_count": 14,
   "metadata": {},
   "outputs": [],
   "source": [
    "model.compile(loss='binary_crossentropy',\n",
    "              optimizer='sgd',\n",
    "              metrics=['accuracy'])"
   ]
  },
  {
   "cell_type": "code",
   "execution_count": 15,
   "metadata": {},
   "outputs": [
    {
     "name": "stdout",
     "output_type": "stream",
     "text": [
      "Epoch 1/5\n",
      "10/10 [==============================] - 10s 1000ms/step - loss: 0.6515 - accuracy: 0.5939 - val_loss: 0.8229 - val_accuracy: 0.5000\n",
      "Epoch 2/5\n",
      "10/10 [==============================] - 9s 889ms/step - loss: 0.6590 - accuracy: 0.6225 - val_loss: 0.8100 - val_accuracy: 0.5125\n",
      "Epoch 3/5\n",
      "10/10 [==============================] - 8s 819ms/step - loss: 0.5956 - accuracy: 0.7099 - val_loss: 0.5545 - val_accuracy: 0.7143\n",
      "Epoch 4/5\n",
      "10/10 [==============================] - 9s 870ms/step - loss: 0.5783 - accuracy: 0.6900 - val_loss: 0.5054 - val_accuracy: 0.7125\n",
      "Epoch 5/5\n",
      "10/10 [==============================] - 9s 881ms/step - loss: 0.4951 - accuracy: 0.7750 - val_loss: 0.7900 - val_accuracy: 0.6125\n"
     ]
    }
   ],
   "source": [
    "history = model.fit_generator(\n",
    "    training,\n",
    "    steps_per_epoch=nb_train_samples // batch_size,\n",
    "    epochs=epochs,\n",
    "    validation_data=validation,\n",
    "    validation_steps=nb_validation_samples // batch_size)"
   ]
  },
  {
   "cell_type": "code",
   "execution_count": 16,
   "metadata": {},
   "outputs": [
    {
     "data": {
      "image/png": "[encoded data removed]",
      "text/plain": [
       "<Figure size 432x288 with 1 Axes>"
      ]
     },
     "metadata": {
      "needs_background": "light"
     },
     "output_type": "display_data"
    }
   ],
   "source": [
    "import matplotlib.pyplot as plt\n",
    "\n",
    "plt.plot(history.history['accuracy'])\n",
    "plt.plot(history.history['val_accuracy'])\n",
    "plt.title('Model accuracy')\n",
    "plt.ylabel('Accuracy')\n",
    "plt.xlabel('Epoch')\n",
    "plt.legend(['Train', 'Validate'], loc='upper left')\n",
    "plt.show()"
   ]
  },
  {
   "cell_type": "code",
   "execution_count": 17,
   "metadata": {},
   "outputs": [],
   "source": [
    "predictions = model.predict(validation)"
   ]
  },
  {
   "cell_type": "code",
   "execution_count": 18,
   "metadata": {},
   "outputs": [
    {
     "data": {
      "text/plain": [
       "array([[0.07059829],\n",
       "       [0.49907196],\n",
       "       [0.46836403],\n",
       "       [0.06248025],\n",
       "       [0.32513565],\n",
       "       [0.05128131],\n",
       "       [0.32675567],\n",
       "       [0.4213441 ],\n",
       "       [0.56888735],\n",
       "       [0.194287  ],\n",
       "       [0.31298903],\n",
       "       [0.17964453],\n",
       "       [0.48947152],\n",
       "       [0.24456377],\n",
       "       [0.30740064],\n",
       "       [0.15416531],\n",
       "       [0.3456867 ],\n",
       "       [0.41096106],\n",
       "       [0.18403453],\n",
       "       [0.14527643],\n",
       "       [0.18205895],\n",
       "       [0.19609785],\n",
       "       [0.57697123],\n",
       "       [0.48437053],\n",
       "       [0.18507136],\n",
       "       [0.34554237],\n",
       "       [0.04862694],\n",
       "       [0.25378674],\n",
       "       [0.10380609],\n",
       "       [0.39370272],\n",
       "       [0.56515896],\n",
       "       [0.16944231],\n",
       "       [0.4710087 ],\n",
       "       [0.19523098],\n",
       "       [0.4946217 ],\n",
       "       [0.58937913],\n",
       "       [0.57768047],\n",
       "       [0.5613267 ],\n",
       "       [0.15575252],\n",
       "       [0.03502873],\n",
       "       [0.06205104],\n",
       "       [0.1496054 ],\n",
       "       [0.09352943],\n",
       "       [0.81584203],\n",
       "       [0.38992646],\n",
       "       [0.07108686],\n",
       "       [0.68706596],\n",
       "       [0.611017  ],\n",
       "       [0.81081015],\n",
       "       [0.42119935],\n",
       "       [0.4511871 ],\n",
       "       [0.12415101],\n",
       "       [0.4944388 ],\n",
       "       [0.13756183],\n",
       "       [0.22422157],\n",
       "       [0.28756428],\n",
       "       [0.3289814 ],\n",
       "       [0.13864882],\n",
       "       [0.07067564],\n",
       "       [0.09168924],\n",
       "       [0.35776272],\n",
       "       [0.28899923],\n",
       "       [0.47916788],\n",
       "       [0.5650657 ],\n",
       "       [0.17273034],\n",
       "       [0.23890488],\n",
       "       [0.3041821 ],\n",
       "       [0.09517115],\n",
       "       [0.6810383 ],\n",
       "       [0.35227293],\n",
       "       [0.5147877 ],\n",
       "       [0.21893959],\n",
       "       [0.12225523],\n",
       "       [0.12281728],\n",
       "       [0.19575377],\n",
       "       [0.30170804],\n",
       "       [0.48397052],\n",
       "       [0.10972805],\n",
       "       [0.29445705],\n",
       "       [0.6985465 ],\n",
       "       [0.38371414],\n",
       "       [0.24810891],\n",
       "       [0.3145983 ],\n",
       "       [0.19601767],\n",
       "       [0.14321801],\n",
       "       [0.37737247],\n",
       "       [0.10764456],\n",
       "       [0.36712167],\n",
       "       [0.07677805],\n",
       "       [0.49391222],\n",
       "       [0.07249557],\n",
       "       [0.7284848 ],\n",
       "       [0.43444282],\n",
       "       [0.6247899 ],\n",
       "       [0.24214081],\n",
       "       [0.23140147],\n",
       "       [0.39170125],\n",
       "       [0.49914566],\n",
       "       [0.0942274 ],\n",
       "       [0.29271153],\n",
       "       [0.09744859],\n",
       "       [0.0933646 ],\n",
       "       [0.12039053],\n",
       "       [0.1793389 ],\n",
       "       [0.147028  ],\n",
       "       [0.08874143],\n",
       "       [0.18896654],\n",
       "       [0.54957837],\n",
       "       [0.20657894],\n",
       "       [0.41705054],\n",
       "       [0.14894387],\n",
       "       [0.23748273],\n",
       "       [0.6379251 ],\n",
       "       [0.10395936],\n",
       "       [0.23588218],\n",
       "       [0.30740982],\n",
       "       [0.7106825 ],\n",
       "       [0.12712407],\n",
       "       [0.10149996],\n",
       "       [0.13230662],\n",
       "       [0.7853117 ],\n",
       "       [0.18915378],\n",
       "       [0.18449631],\n",
       "       [0.47487047],\n",
       "       [0.19364284],\n",
       "       [0.44964588],\n",
       "       [0.04936742],\n",
       "       [0.6085655 ],\n",
       "       [0.5367649 ],\n",
       "       [0.5236061 ],\n",
       "       [0.44472238],\n",
       "       [0.28048605],\n",
       "       [0.1356543 ],\n",
       "       [0.4806698 ],\n",
       "       [0.16130976],\n",
       "       [0.45604938],\n",
       "       [0.13703614],\n",
       "       [0.59903765],\n",
       "       [0.4131622 ],\n",
       "       [0.7413247 ],\n",
       "       [0.58094895],\n",
       "       [0.37439093],\n",
       "       [0.1357481 ],\n",
       "       [0.11628234],\n",
       "       [0.41674697],\n",
       "       [0.0666857 ],\n",
       "       [0.17086339],\n",
       "       [0.18093511],\n",
       "       [0.08741491],\n",
       "       [0.5479162 ],\n",
       "       [0.24954675],\n",
       "       [0.6117904 ],\n",
       "       [0.25785485],\n",
       "       [0.18359382],\n",
       "       [0.09842169],\n",
       "       [0.6678478 ],\n",
       "       [0.14802797],\n",
       "       [0.220895  ],\n",
       "       [0.6336667 ],\n",
       "       [0.16056369],\n",
       "       [0.24311338],\n",
       "       [0.1728116 ],\n",
       "       [0.39471442],\n",
       "       [0.13007265],\n",
       "       [0.457538  ],\n",
       "       [0.08500212],\n",
       "       [0.17136383],\n",
       "       [0.35412943],\n",
       "       [0.12330789],\n",
       "       [0.08202229],\n",
       "       [0.5657985 ],\n",
       "       [0.7836791 ],\n",
       "       [0.32802624],\n",
       "       [0.7339752 ],\n",
       "       [0.11978345],\n",
       "       [0.6659529 ],\n",
       "       [0.20457952],\n",
       "       [0.5791004 ],\n",
       "       [0.20555276],\n",
       "       [0.5583465 ],\n",
       "       [0.47762004],\n",
       "       [0.45165417],\n",
       "       [0.07263104],\n",
       "       [0.27377832],\n",
       "       [0.1317592 ],\n",
       "       [0.6194345 ],\n",
       "       [0.79002005],\n",
       "       [0.13230017],\n",
       "       [0.33521488],\n",
       "       [0.15750456],\n",
       "       [0.13879527],\n",
       "       [0.5775404 ],\n",
       "       [0.09641137],\n",
       "       [0.10322713],\n",
       "       [0.1686806 ],\n",
       "       [0.3755015 ],\n",
       "       [0.138524  ],\n",
       "       [0.2971975 ],\n",
       "       [0.28779796],\n",
       "       [0.48680708],\n",
       "       [0.21151933],\n",
       "       [0.29378945]], dtype=float32)"
      ]
     },
     "execution_count": 18,
     "metadata": {},
     "output_type": "execute_result"
    }
   ],
   "source": [
    "predictions"
   ]
  },
  {
   "cell_type": "code",
   "execution_count": 19,
   "metadata": {},
   "outputs": [],
   "source": [
    "import numpy as np\n",
    "np.set_printoptions(formatter={'float_kind':'{:f}'.format})"
   ]
  },
  {
   "cell_type": "code",
   "execution_count": 20,
   "metadata": {},
   "outputs": [],
   "source": [
    "newpredictions =  np.rint(predictions)"
   ]
  },
  {
   "cell_type": "code",
   "execution_count": 21,
   "metadata": {},
   "outputs": [
    {
     "data": {
      "text/plain": [
       "array([[0.000000],\n",
       "       [0.000000],\n",
       "       [0.000000],\n",
       "       [0.000000],\n",
       "       [0.000000],\n",
       "       [0.000000],\n",
       "       [0.000000],\n",
       "       [0.000000],\n",
       "       [1.000000],\n",
       "       [0.000000],\n",
       "       [0.000000],\n",
       "       [0.000000],\n",
       "       [0.000000],\n",
       "       [0.000000],\n",
       "       [0.000000],\n",
       "       [0.000000],\n",
       "       [0.000000],\n",
       "       [0.000000],\n",
       "       [0.000000],\n",
       "       [0.000000],\n",
       "       [0.000000],\n",
       "       [0.000000],\n",
       "       [1.000000],\n",
       "       [0.000000],\n",
       "       [0.000000],\n",
       "       [0.000000],\n",
       "       [0.000000],\n",
       "       [0.000000],\n",
       "       [0.000000],\n",
       "       [0.000000],\n",
       "       [1.000000],\n",
       "       [0.000000],\n",
       "       [0.000000],\n",
       "       [0.000000],\n",
       "       [0.000000],\n",
       "       [1.000000],\n",
       "       [1.000000],\n",
       "       [1.000000],\n",
       "       [0.000000],\n",
       "       [0.000000],\n",
       "       [0.000000],\n",
       "       [0.000000],\n",
       "       [0.000000],\n",
       "       [1.000000],\n",
       "       [0.000000],\n",
       "       [0.000000],\n",
       "       [1.000000],\n",
       "       [1.000000],\n",
       "       [1.000000],\n",
       "       [0.000000],\n",
       "       [0.000000],\n",
       "       [0.000000],\n",
       "       [0.000000],\n",
       "       [0.000000],\n",
       "       [0.000000],\n",
       "       [0.000000],\n",
       "       [0.000000],\n",
       "       [0.000000],\n",
       "       [0.000000],\n",
       "       [0.000000],\n",
       "       [0.000000],\n",
       "       [0.000000],\n",
       "       [0.000000],\n",
       "       [1.000000],\n",
       "       [0.000000],\n",
       "       [0.000000],\n",
       "       [0.000000],\n",
       "       [0.000000],\n",
       "       [1.000000],\n",
       "       [0.000000],\n",
       "       [1.000000],\n",
       "       [0.000000],\n",
       "       [0.000000],\n",
       "       [0.000000],\n",
       "       [0.000000],\n",
       "       [0.000000],\n",
       "       [0.000000],\n",
       "       [0.000000],\n",
       "       [0.000000],\n",
       "       [1.000000],\n",
       "       [0.000000],\n",
       "       [0.000000],\n",
       "       [0.000000],\n",
       "       [0.000000],\n",
       "       [0.000000],\n",
       "       [0.000000],\n",
       "       [0.000000],\n",
       "       [0.000000],\n",
       "       [0.000000],\n",
       "       [0.000000],\n",
       "       [0.000000],\n",
       "       [1.000000],\n",
       "       [0.000000],\n",
       "       [1.000000],\n",
       "       [0.000000],\n",
       "       [0.000000],\n",
       "       [0.000000],\n",
       "       [0.000000],\n",
       "       [0.000000],\n",
       "       [0.000000],\n",
       "       [0.000000],\n",
       "       [0.000000],\n",
       "       [0.000000],\n",
       "       [0.000000],\n",
       "       [0.000000],\n",
       "       [0.000000],\n",
       "       [0.000000],\n",
       "       [1.000000],\n",
       "       [0.000000],\n",
       "       [0.000000],\n",
       "       [0.000000],\n",
       "       [0.000000],\n",
       "       [1.000000],\n",
       "       [0.000000],\n",
       "       [0.000000],\n",
       "       [0.000000],\n",
       "       [1.000000],\n",
       "       [0.000000],\n",
       "       [0.000000],\n",
       "       [0.000000],\n",
       "       [1.000000],\n",
       "       [0.000000],\n",
       "       [0.000000],\n",
       "       [0.000000],\n",
       "       [0.000000],\n",
       "       [0.000000],\n",
       "       [0.000000],\n",
       "       [1.000000],\n",
       "       [1.000000],\n",
       "       [1.000000],\n",
       "       [0.000000],\n",
       "       [0.000000],\n",
       "       [0.000000],\n",
       "       [0.000000],\n",
       "       [0.000000],\n",
       "       [0.000000],\n",
       "       [0.000000],\n",
       "       [1.000000],\n",
       "       [0.000000],\n",
       "       [1.000000],\n",
       "       [1.000000],\n",
       "       [0.000000],\n",
       "       [0.000000],\n",
       "       [0.000000],\n",
       "       [0.000000],\n",
       "       [0.000000],\n",
       "       [0.000000],\n",
       "       [0.000000],\n",
       "       [0.000000],\n",
       "       [1.000000],\n",
       "       [0.000000],\n",
       "       [1.000000],\n",
       "       [0.000000],\n",
       "       [0.000000],\n",
       "       [0.000000],\n",
       "       [1.000000],\n",
       "       [0.000000],\n",
       "       [0.000000],\n",
       "       [1.000000],\n",
       "       [0.000000],\n",
       "       [0.000000],\n",
       "       [0.000000],\n",
       "       [0.000000],\n",
       "       [0.000000],\n",
       "       [0.000000],\n",
       "       [0.000000],\n",
       "       [0.000000],\n",
       "       [0.000000],\n",
       "       [0.000000],\n",
       "       [0.000000],\n",
       "       [1.000000],\n",
       "       [1.000000],\n",
       "       [0.000000],\n",
       "       [1.000000],\n",
       "       [0.000000],\n",
       "       [1.000000],\n",
       "       [0.000000],\n",
       "       [1.000000],\n",
       "       [0.000000],\n",
       "       [1.000000],\n",
       "       [0.000000],\n",
       "       [0.000000],\n",
       "       [0.000000],\n",
       "       [0.000000],\n",
       "       [0.000000],\n",
       "       [1.000000],\n",
       "       [1.000000],\n",
       "       [0.000000],\n",
       "       [0.000000],\n",
       "       [0.000000],\n",
       "       [0.000000],\n",
       "       [1.000000],\n",
       "       [0.000000],\n",
       "       [0.000000],\n",
       "       [0.000000],\n",
       "       [0.000000],\n",
       "       [0.000000],\n",
       "       [0.000000],\n",
       "       [0.000000],\n",
       "       [0.000000],\n",
       "       [0.000000],\n",
       "       [0.000000]], dtype=float32)"
      ]
     },
     "execution_count": 21,
     "metadata": {},
     "output_type": "execute_result"
    }
   ],
   "source": [
    "newpredictions"
   ]
  },
  {
   "cell_type": "code",
   "execution_count": null,
   "metadata": {},
   "outputs": [],
   "source": []
  }
 ],
 "metadata": {
  "kernelspec": {
   "display_name": "Python 3",
   "language": "python",
   "name": "python3"
  },
  "language_info": {
   "codemirror_mode": {
    "name": "ipython",
    "version": 3
   },
   "file_extension": ".py",
   "mimetype": "text/x-python",
   "name": "python",
   "nbconvert_exporter": "python",
   "pygments_lexer": "ipython3",
   "version": "3.7.7"
  }
 },
 "nbformat": 4,
 "nbformat_minor": 4
}
