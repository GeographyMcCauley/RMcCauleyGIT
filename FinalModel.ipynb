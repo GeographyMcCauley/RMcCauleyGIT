{
 "cells": [
  {
   "cell_type": "code",
   "execution_count": 6,
   "metadata": {},
   "outputs": [
    {
     "data": {
      "text/plain": [
       "'C:\\\\Users\\\\Russm\\\\DroneCourse\\\\ENVS333\\\\DeepLearn\\\\final'"
      ]
     },
     "execution_count": 6,
     "metadata": {},
     "output_type": "execute_result"
    }
   ],
   "source": [
    "import os\n",
    "os.getcwd()  # Get Working Directory"
   ]
  },
  {
   "cell_type": "code",
   "execution_count": 1,
   "metadata": {},
   "outputs": [
    {
     "name": "stderr",
     "output_type": "stream",
     "text": [
      "Using TensorFlow backend.\n"
     ]
    },
    {
     "name": "stdout",
     "output_type": "stream",
     "text": [
      "Wall time: 8.85 s\n"
     ]
    }
   ],
   "source": [
    "%%time\n",
    "import os\n",
    "os.environ['KERAS_BACKEND'] = 'tensorflow'\n",
    "import keras"
   ]
  },
  {
   "cell_type": "code",
   "execution_count": 2,
   "metadata": {},
   "outputs": [],
   "source": [
    "from keras.preprocessing.image import ImageDataGenerator\n",
    "from keras.models import Sequential\n",
    "from keras.layers import Conv2D, MaxPooling2D\n",
    "from keras.layers import Activation, Dropout, Flatten, Dense\n",
    "from keras import backend as K"
   ]
  },
  {
   "cell_type": "code",
   "execution_count": 3,
   "metadata": {},
   "outputs": [],
   "source": [
    "# dimensions of our images.\n",
    "img_width, img_height = 150, 150"
   ]
  },
  {
   "cell_type": "code",
   "execution_count": 4,
   "metadata": {},
   "outputs": [],
   "source": [
    "\n",
    "train_data_dir = 'data/train'\n",
    "validation_data_dir = 'data/validation'\n",
    "nb_train_samples = 401\n",
    "nb_validation_samples = 101\n",
    "epochs = 10\n",
    "batch_size = 20"
   ]
  },
  {
   "cell_type": "code",
   "execution_count": 5,
   "metadata": {},
   "outputs": [],
   "source": [
    "if K.image_data_format() == 'channels_first':\n",
    "    input_shape = (3, img_width, img_height)\n",
    "else:\n",
    "    input_shape = (img_width, img_height, 3)"
   ]
  },
  {
   "cell_type": "code",
   "execution_count": 6,
   "metadata": {},
   "outputs": [],
   "source": [
    "train_datagen = ImageDataGenerator(\n",
    "    rescale=1. / 255)"
   ]
  },
  {
   "cell_type": "code",
   "execution_count": 7,
   "metadata": {},
   "outputs": [],
   "source": [
    "test_datagen = ImageDataGenerator(rescale=1. / 255)"
   ]
  },
  {
   "cell_type": "code",
   "execution_count": 8,
   "metadata": {},
   "outputs": [
    {
     "name": "stdout",
     "output_type": "stream",
     "text": [
      "Found 802 images belonging to 2 classes.\n"
     ]
    }
   ],
   "source": [
    "training = train_datagen.flow_from_directory(\n",
    "    train_data_dir,\n",
    "    target_size=(img_width, img_height),\n",
    "    batch_size=batch_size,\n",
    "    class_mode='binary')\n",
    "x,y = training.next()"
   ]
  },
  {
   "cell_type": "code",
   "execution_count": 9,
   "metadata": {},
   "outputs": [
    {
     "data": {
      "text/plain": [
       "array([0., 0., 1., 0., 1., 0., 0., 1., 0., 1., 1., 0., 1., 1., 1., 0., 1.,\n",
       "       1., 0., 1.], dtype=float32)"
      ]
     },
     "execution_count": 9,
     "metadata": {},
     "output_type": "execute_result"
    }
   ],
   "source": [
    "y"
   ]
  },
  {
   "cell_type": "code",
   "execution_count": 10,
   "metadata": {},
   "outputs": [
    {
     "name": "stdout",
     "output_type": "stream",
     "text": [
      "Found 202 images belonging to 2 classes.\n"
     ]
    }
   ],
   "source": [
    "validation = test_datagen.flow_from_directory(\n",
    "    validation_data_dir,\n",
    "    target_size=(img_width, img_height),\n",
    "    batch_size=batch_size,\n",
    "    class_mode='binary')\n",
    "\n",
    "x,y = validation.next()"
   ]
  },
  {
   "cell_type": "code",
   "execution_count": 11,
   "metadata": {},
   "outputs": [
    {
     "data": {
      "text/plain": [
       "array([1., 0., 1., 1., 1., 1., 0., 1., 1., 1., 1., 0., 0., 0., 0., 0., 1.,\n",
       "       1., 0., 1.], dtype=float32)"
      ]
     },
     "execution_count": 11,
     "metadata": {},
     "output_type": "execute_result"
    }
   ],
   "source": [
    "y"
   ]
  },
  {
   "cell_type": "code",
   "execution_count": 12,
   "metadata": {},
   "outputs": [],
   "source": [
    "model = Sequential()\n",
    "model.add(Conv2D(32, (3, 3), input_shape=input_shape))\n",
    "model.add(Activation('relu'))\n",
    "model.add(MaxPooling2D(pool_size=(2, 2)))\n",
    "model.add(Dropout(0.2))\n",
    "#model.add(Conv2D(32, (3, 3)))\n",
    "#model.add(Activation('relu'))\n",
    "#model.add(MaxPooling2D(pool_size=(2, 2)))\n",
    "\n",
    "#model.add(Conv2D(64, (3, 3)))\n",
    "#model.add(Activation('relu'))\n",
    "#model.add(MaxPooling2D(pool_size=(2, 2)))\n",
    "\n",
    "model.add(Flatten())\n",
    "model.add(Dense(64))\n",
    "model.add(Activation('relu'))\n",
    "model.add(Dense(1))\n",
    "model.add(Activation('sigmoid'))"
   ]
  },
  {
   "cell_type": "code",
   "execution_count": 13,
   "metadata": {},
   "outputs": [],
   "source": [
    "model.compile(loss='binary_crossentropy',\n",
    "              optimizer='sgd',\n",
    "              metrics=['accuracy'])"
   ]
  },
  {
   "cell_type": "code",
   "execution_count": 14,
   "metadata": {},
   "outputs": [
    {
     "name": "stdout",
     "output_type": "stream",
     "text": [
      "Epoch 1/10\n",
      "20/20 [==============================] - 15s 726ms/step - loss: 0.7676 - accuracy: 0.4775 - val_loss: 0.6925 - val_accuracy: 0.6300\n",
      "Epoch 2/10\n",
      "20/20 [==============================] - 12s 600ms/step - loss: 0.7184 - accuracy: 0.5157 - val_loss: 0.6667 - val_accuracy: 0.7600\n",
      "Epoch 3/10\n",
      "20/20 [==============================] - 11s 559ms/step - loss: 0.6852 - accuracy: 0.5288 - val_loss: 0.7670 - val_accuracy: 0.4756\n",
      "Epoch 4/10\n",
      "20/20 [==============================] - 11s 547ms/step - loss: 0.6667 - accuracy: 0.6325 - val_loss: 0.6572 - val_accuracy: 0.6600\n",
      "Epoch 5/10\n",
      "20/20 [==============================] - 11s 535ms/step - loss: 0.6461 - accuracy: 0.6492 - val_loss: 0.5424 - val_accuracy: 0.7927\n",
      "Epoch 6/10\n",
      "20/20 [==============================] - 11s 545ms/step - loss: 0.5875 - accuracy: 0.7050 - val_loss: 0.5563 - val_accuracy: 0.7000\n",
      "Epoch 7/10\n",
      "20/20 [==============================] - 10s 522ms/step - loss: 0.5243 - accuracy: 0.7625 - val_loss: 0.5217 - val_accuracy: 0.6220\n",
      "Epoch 8/10\n",
      "20/20 [==============================] - 11s 525ms/step - loss: 0.5465 - accuracy: 0.7300 - val_loss: 0.4522 - val_accuracy: 0.8400\n",
      "Epoch 9/10\n",
      "20/20 [==============================] - 10s 492ms/step - loss: 0.4873 - accuracy: 0.7527 - val_loss: 0.3551 - val_accuracy: 0.7805\n",
      "Epoch 10/10\n",
      "20/20 [==============================] - 10s 513ms/step - loss: 0.5201 - accuracy: 0.7425 - val_loss: 0.3960 - val_accuracy: 0.7800\n"
     ]
    }
   ],
   "source": [
    "history = model.fit_generator(\n",
    "    training,\n",
    "    steps_per_epoch=nb_train_samples // batch_size,\n",
    "    epochs=epochs,\n",
    "    validation_data=validation,\n",
    "    validation_steps=nb_validation_samples // batch_size)"
   ]
  },
  {
   "cell_type": "code",
   "execution_count": 15,
   "metadata": {},
   "outputs": [
    {
     "data": {
      "image/png": "[encoded data removed]",
      "text/plain": [
       "<Figure size 432x288 with 1 Axes>"
      ]
     },
     "metadata": {
      "needs_background": "light"
     },
     "output_type": "display_data"
    }
   ],
   "source": [
    "import matplotlib.pyplot as plt\n",
    "\n",
    "plt.plot(history.history['accuracy'])\n",
    "plt.plot(history.history['val_accuracy'])\n",
    "plt.title('Model accuracy')\n",
    "plt.ylabel('Accuracy')\n",
    "plt.xlabel('Epoch')\n",
    "plt.legend(['Train', 'Validate'], loc='upper left')\n",
    "plt.show()"
   ]
  },
  {
   "cell_type": "code",
   "execution_count": 16,
   "metadata": {},
   "outputs": [],
   "source": [
    "predictions = model.predict(validation)"
   ]
  },
  {
   "cell_type": "code",
   "execution_count": 17,
   "metadata": {},
   "outputs": [
    {
     "data": {
      "text/plain": [
       "array([[0.7595156 ],\n",
       "       [0.11867207],\n",
       "       [0.8096591 ],\n",
       "       [0.32948276],\n",
       "       [0.5959676 ],\n",
       "       [0.72873724],\n",
       "       [0.8003527 ],\n",
       "       [0.9298839 ],\n",
       "       [0.7148319 ],\n",
       "       [0.5883476 ],\n",
       "       [0.74857384],\n",
       "       [0.5271547 ],\n",
       "       [0.908885  ],\n",
       "       [0.32066733],\n",
       "       [0.63756627],\n",
       "       [0.88355124],\n",
       "       [0.91360354],\n",
       "       [0.52260804],\n",
       "       [0.20647393],\n",
       "       [0.9240802 ],\n",
       "       [0.81516033],\n",
       "       [0.44948316],\n",
       "       [0.53122956],\n",
       "       [0.54074377],\n",
       "       [0.8434524 ],\n",
       "       [0.92022485],\n",
       "       [0.7102818 ],\n",
       "       [0.63750684],\n",
       "       [0.5244026 ],\n",
       "       [0.5792012 ],\n",
       "       [0.81590426],\n",
       "       [0.54098296],\n",
       "       [0.35822213],\n",
       "       [0.09455502],\n",
       "       [0.7429628 ],\n",
       "       [0.7227626 ],\n",
       "       [0.9263013 ],\n",
       "       [0.50762343],\n",
       "       [0.7900301 ],\n",
       "       [0.14694473],\n",
       "       [0.24748427],\n",
       "       [0.38808653],\n",
       "       [0.15584569],\n",
       "       [0.46733576],\n",
       "       [0.54741585],\n",
       "       [0.1578074 ],\n",
       "       [0.65236014],\n",
       "       [0.34381843],\n",
       "       [0.41397235],\n",
       "       [0.79007477],\n",
       "       [0.8398266 ],\n",
       "       [0.614643  ],\n",
       "       [0.4374715 ],\n",
       "       [0.92981315],\n",
       "       [0.89577216],\n",
       "       [0.7940597 ],\n",
       "       [0.3086704 ],\n",
       "       [0.70575595],\n",
       "       [0.59850603],\n",
       "       [0.2909785 ],\n",
       "       [0.82895416],\n",
       "       [0.27711183],\n",
       "       [0.49992156],\n",
       "       [0.1109839 ],\n",
       "       [0.23246366],\n",
       "       [0.8850354 ],\n",
       "       [0.5703241 ],\n",
       "       [0.44042686],\n",
       "       [0.49996984],\n",
       "       [0.25641605],\n",
       "       [0.83683866],\n",
       "       [0.6788858 ],\n",
       "       [0.7955397 ],\n",
       "       [0.28643298],\n",
       "       [0.22341694],\n",
       "       [0.7115469 ],\n",
       "       [0.36815196],\n",
       "       [0.6772109 ],\n",
       "       [0.82474494],\n",
       "       [0.63625795],\n",
       "       [0.10963158],\n",
       "       [0.7102345 ],\n",
       "       [0.35802412],\n",
       "       [0.302505  ],\n",
       "       [0.8559655 ],\n",
       "       [0.2690287 ],\n",
       "       [0.23829052],\n",
       "       [0.712127  ],\n",
       "       [0.33856198],\n",
       "       [0.32464883],\n",
       "       [0.45513147],\n",
       "       [0.4702669 ],\n",
       "       [0.3067446 ],\n",
       "       [0.14810088],\n",
       "       [0.21459828],\n",
       "       [0.5126562 ],\n",
       "       [0.43808627],\n",
       "       [0.8712165 ],\n",
       "       [0.28300282],\n",
       "       [0.22183381],\n",
       "       [0.32179797],\n",
       "       [0.20719005],\n",
       "       [0.28964967],\n",
       "       [0.65806204],\n",
       "       [0.1992321 ],\n",
       "       [0.1935319 ],\n",
       "       [0.88754755],\n",
       "       [0.6552189 ],\n",
       "       [0.74879813],\n",
       "       [0.14756697],\n",
       "       [0.4638824 ],\n",
       "       [0.7609345 ],\n",
       "       [0.6848727 ],\n",
       "       [0.74416715],\n",
       "       [0.80749774],\n",
       "       [0.1695247 ],\n",
       "       [0.5701488 ],\n",
       "       [0.8226083 ],\n",
       "       [0.6929873 ],\n",
       "       [0.8528533 ],\n",
       "       [0.6562716 ],\n",
       "       [0.7621004 ],\n",
       "       [0.30226427],\n",
       "       [0.9565304 ],\n",
       "       [0.82124925],\n",
       "       [0.25179002],\n",
       "       [0.49760434],\n",
       "       [0.3661754 ],\n",
       "       [0.6956036 ],\n",
       "       [0.11886304],\n",
       "       [0.2742439 ],\n",
       "       [0.47257805],\n",
       "       [0.6094801 ],\n",
       "       [0.5677039 ],\n",
       "       [0.12826826],\n",
       "       [0.18759832],\n",
       "       [0.87838715],\n",
       "       [0.7376174 ],\n",
       "       [0.27285463],\n",
       "       [0.442506  ],\n",
       "       [0.132485  ],\n",
       "       [0.6082745 ],\n",
       "       [0.8417786 ],\n",
       "       [0.9502083 ],\n",
       "       [0.178681  ],\n",
       "       [0.11371343],\n",
       "       [0.71736515],\n",
       "       [0.41788632],\n",
       "       [0.7167142 ],\n",
       "       [0.7938697 ],\n",
       "       [0.8968721 ],\n",
       "       [0.34647328],\n",
       "       [0.95947397],\n",
       "       [0.9487733 ],\n",
       "       [0.2801316 ],\n",
       "       [0.34924185],\n",
       "       [0.74053615],\n",
       "       [0.8198879 ],\n",
       "       [0.3860461 ],\n",
       "       [0.4385493 ],\n",
       "       [0.8946312 ],\n",
       "       [0.8217088 ],\n",
       "       [0.7971333 ],\n",
       "       [0.8460543 ],\n",
       "       [0.49098694],\n",
       "       [0.86295706],\n",
       "       [0.31025568],\n",
       "       [0.26304105],\n",
       "       [0.42006117],\n",
       "       [0.3145278 ],\n",
       "       [0.6448652 ],\n",
       "       [0.3896484 ],\n",
       "       [0.74169695],\n",
       "       [0.3179039 ],\n",
       "       [0.8294458 ],\n",
       "       [0.22440961],\n",
       "       [0.358155  ],\n",
       "       [0.6414374 ],\n",
       "       [0.48995903],\n",
       "       [0.46675953],\n",
       "       [0.39979917],\n",
       "       [0.7725748 ],\n",
       "       [0.2610314 ],\n",
       "       [0.905553  ],\n",
       "       [0.20091796],\n",
       "       [0.59344894],\n",
       "       [0.60206366],\n",
       "       [0.7495656 ],\n",
       "       [0.46776462],\n",
       "       [0.13551626],\n",
       "       [0.44503438],\n",
       "       [0.48231274],\n",
       "       [0.38130248],\n",
       "       [0.49480736],\n",
       "       [0.87754494],\n",
       "       [0.7009935 ],\n",
       "       [0.64670277],\n",
       "       [0.16997609],\n",
       "       [0.58706415],\n",
       "       [0.5332866 ],\n",
       "       [0.24948263],\n",
       "       [0.79145473]], dtype=float32)"
      ]
     },
     "execution_count": 17,
     "metadata": {},
     "output_type": "execute_result"
    }
   ],
   "source": [
    "predictions"
   ]
  },
  {
   "cell_type": "code",
   "execution_count": 18,
   "metadata": {},
   "outputs": [],
   "source": [
    "import numpy as np\n",
    "np.set_printoptions(formatter={'float_kind':'{:f}'.format})"
   ]
  },
  {
   "cell_type": "code",
   "execution_count": 19,
   "metadata": {},
   "outputs": [],
   "source": [
    "newpredictions =  np.rint(predictions)"
   ]
  },
  {
   "cell_type": "code",
   "execution_count": 20,
   "metadata": {},
   "outputs": [
    {
     "data": {
      "text/plain": [
       "array([[1.000000],\n",
       "       [0.000000],\n",
       "       [1.000000],\n",
       "       [0.000000],\n",
       "       [1.000000],\n",
       "       [1.000000],\n",
       "       [1.000000],\n",
       "       [1.000000],\n",
       "       [1.000000],\n",
       "       [1.000000],\n",
       "       [1.000000],\n",
       "       [1.000000],\n",
       "       [1.000000],\n",
       "       [0.000000],\n",
       "       [1.000000],\n",
       "       [1.000000],\n",
       "       [1.000000],\n",
       "       [1.000000],\n",
       "       [0.000000],\n",
       "       [1.000000],\n",
       "       [1.000000],\n",
       "       [0.000000],\n",
       "       [1.000000],\n",
       "       [1.000000],\n",
       "       [1.000000],\n",
       "       [1.000000],\n",
       "       [1.000000],\n",
       "       [1.000000],\n",
       "       [1.000000],\n",
       "       [1.000000],\n",
       "       [1.000000],\n",
       "       [1.000000],\n",
       "       [0.000000],\n",
       "       [0.000000],\n",
       "       [1.000000],\n",
       "       [1.000000],\n",
       "       [1.000000],\n",
       "       [1.000000],\n",
       "       [1.000000],\n",
       "       [0.000000],\n",
       "       [0.000000],\n",
       "       [0.000000],\n",
       "       [0.000000],\n",
       "       [0.000000],\n",
       "       [1.000000],\n",
       "       [0.000000],\n",
       "       [1.000000],\n",
       "       [0.000000],\n",
       "       [0.000000],\n",
       "       [1.000000],\n",
       "       [1.000000],\n",
       "       [1.000000],\n",
       "       [0.000000],\n",
       "       [1.000000],\n",
       "       [1.000000],\n",
       "       [1.000000],\n",
       "       [0.000000],\n",
       "       [1.000000],\n",
       "       [1.000000],\n",
       "       [0.000000],\n",
       "       [1.000000],\n",
       "       [0.000000],\n",
       "       [0.000000],\n",
       "       [0.000000],\n",
       "       [0.000000],\n",
       "       [1.000000],\n",
       "       [1.000000],\n",
       "       [0.000000],\n",
       "       [0.000000],\n",
       "       [0.000000],\n",
       "       [1.000000],\n",
       "       [1.000000],\n",
       "       [1.000000],\n",
       "       [0.000000],\n",
       "       [0.000000],\n",
       "       [1.000000],\n",
       "       [0.000000],\n",
       "       [1.000000],\n",
       "       [1.000000],\n",
       "       [1.000000],\n",
       "       [0.000000],\n",
       "       [1.000000],\n",
       "       [0.000000],\n",
       "       [0.000000],\n",
       "       [1.000000],\n",
       "       [0.000000],\n",
       "       [0.000000],\n",
       "       [1.000000],\n",
       "       [0.000000],\n",
       "       [0.000000],\n",
       "       [0.000000],\n",
       "       [0.000000],\n",
       "       [0.000000],\n",
       "       [0.000000],\n",
       "       [0.000000],\n",
       "       [1.000000],\n",
       "       [0.000000],\n",
       "       [1.000000],\n",
       "       [0.000000],\n",
       "       [0.000000],\n",
       "       [0.000000],\n",
       "       [0.000000],\n",
       "       [0.000000],\n",
       "       [1.000000],\n",
       "       [0.000000],\n",
       "       [0.000000],\n",
       "       [1.000000],\n",
       "       [1.000000],\n",
       "       [1.000000],\n",
       "       [0.000000],\n",
       "       [0.000000],\n",
       "       [1.000000],\n",
       "       [1.000000],\n",
       "       [1.000000],\n",
       "       [1.000000],\n",
       "       [0.000000],\n",
       "       [1.000000],\n",
       "       [1.000000],\n",
       "       [1.000000],\n",
       "       [1.000000],\n",
       "       [1.000000],\n",
       "       [1.000000],\n",
       "       [0.000000],\n",
       "       [1.000000],\n",
       "       [1.000000],\n",
       "       [0.000000],\n",
       "       [0.000000],\n",
       "       [0.000000],\n",
       "       [1.000000],\n",
       "       [0.000000],\n",
       "       [0.000000],\n",
       "       [0.000000],\n",
       "       [1.000000],\n",
       "       [1.000000],\n",
       "       [0.000000],\n",
       "       [0.000000],\n",
       "       [1.000000],\n",
       "       [1.000000],\n",
       "       [0.000000],\n",
       "       [0.000000],\n",
       "       [0.000000],\n",
       "       [1.000000],\n",
       "       [1.000000],\n",
       "       [1.000000],\n",
       "       [0.000000],\n",
       "       [0.000000],\n",
       "       [1.000000],\n",
       "       [0.000000],\n",
       "       [1.000000],\n",
       "       [1.000000],\n",
       "       [1.000000],\n",
       "       [0.000000],\n",
       "       [1.000000],\n",
       "       [1.000000],\n",
       "       [0.000000],\n",
       "       [0.000000],\n",
       "       [1.000000],\n",
       "       [1.000000],\n",
       "       [0.000000],\n",
       "       [0.000000],\n",
       "       [1.000000],\n",
       "       [1.000000],\n",
       "       [1.000000],\n",
       "       [1.000000],\n",
       "       [0.000000],\n",
       "       [1.000000],\n",
       "       [0.000000],\n",
       "       [0.000000],\n",
       "       [0.000000],\n",
       "       [0.000000],\n",
       "       [1.000000],\n",
       "       [0.000000],\n",
       "       [1.000000],\n",
       "       [0.000000],\n",
       "       [1.000000],\n",
       "       [0.000000],\n",
       "       [0.000000],\n",
       "       [1.000000],\n",
       "       [0.000000],\n",
       "       [0.000000],\n",
       "       [0.000000],\n",
       "       [1.000000],\n",
       "       [0.000000],\n",
       "       [1.000000],\n",
       "       [0.000000],\n",
       "       [1.000000],\n",
       "       [1.000000],\n",
       "       [1.000000],\n",
       "       [0.000000],\n",
       "       [0.000000],\n",
       "       [0.000000],\n",
       "       [0.000000],\n",
       "       [0.000000],\n",
       "       [0.000000],\n",
       "       [1.000000],\n",
       "       [1.000000],\n",
       "       [1.000000],\n",
       "       [0.000000],\n",
       "       [1.000000],\n",
       "       [1.000000],\n",
       "       [0.000000],\n",
       "       [1.000000]], dtype=float32)"
      ]
     },
     "execution_count": 20,
     "metadata": {},
     "output_type": "execute_result"
    }
   ],
   "source": [
    "newpredictions"
   ]
  },
  {
   "cell_type": "code",
   "execution_count": null,
   "metadata": {},
   "outputs": [],
   "source": []
  }
 ],
 "metadata": {
  "kernelspec": {
   "display_name": "Python 3",
   "language": "python",
   "name": "python3"
  },
  "language_info": {
   "codemirror_mode": {
    "name": "ipython",
    "version": 3
   },
   "file_extension": ".py",
   "mimetype": "text/x-python",
   "name": "python",
   "nbconvert_exporter": "python",
   "pygments_lexer": "ipython3",
   "version": "3.7.7"
  }
 },
 "nbformat": 4,
 "nbformat_minor": 4
}
